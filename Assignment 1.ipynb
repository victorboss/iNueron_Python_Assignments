{
 "cells": [
  {
   "cell_type": "code",
   "execution_count": null,
   "metadata": {},
   "outputs": [],
   "source": [
    "# Question 1. In the below elements which of them are values or an expression? \n",
    "# eg:- values can be integer or string and expressions will be mathematical operators.\n",
    "\n",
    "\n",
    "* is expression\n",
    "'hello' is value\n",
    "-87.8 is value\n",
    "- is expression\n",
    "/ is expression\n",
    "+ is expression\n",
    "6 is value\n"
   ]
  },
  {
   "cell_type": "code",
   "execution_count": null,
   "metadata": {},
   "outputs": [],
   "source": [
    "# Question 2. What is the difference between string and variable?\n",
    "\n",
    "Variables are those places where you can store anything means several types of data. Variables can be integer,floating numbers,\n",
    "strings,bolleans etc.\n",
    "Strings are one kind of variables that store values which are formatted by quatation."
   ]
  },
  {
   "cell_type": "code",
   "execution_count": null,
   "metadata": {},
   "outputs": [],
   "source": [
    "# Question 3. Describe three different data types.\n",
    "\n",
    "Integer : You can store values In integer Format but those values should be whole numbers . You can store values like 3,4 \n",
    "          etc but cannot store 3.54 , 325.236 etc . That means fractional values are Not allowed For Integer Type.\n",
    "        \n",
    "Float   : In floating point numbers you can store whole values As well As floationg numbers like 3.45,45.2325 etc\n",
    "\n",
    "Bool    : In boolean Type you can store true Or false values . In Boolean two possible outcomes are only available "
   ]
  },
  {
   "cell_type": "code",
   "execution_count": null,
   "metadata": {},
   "outputs": [],
   "source": [
    "# Question 4. What is an expression made up of? What do all expressions do?\n",
    "\n",
    "Expression : Expression Is consists of operators,variables along With logical syntax. We All know that syntax are different \n",
    "             For different programing languages. \n",
    "\n",
    "What To Do : For Any kind of logical opration If you want to build then this mathematical expression will Help. Because\n",
    "             without that you cannot make Any logic statements."
   ]
  },
  {
   "cell_type": "code",
   "execution_count": null,
   "metadata": {},
   "outputs": [],
   "source": [
    "# Question 5. This assignment statements, like spam = 10. What is the difference between an expression and a statement?\n",
    "\n",
    "You can think expression As mathematical Or functional operators like +,-,/,% ,= etc . And statement Is that piece of line \n",
    "by which a instruction has been carried out. Actually by expression you are telling what kind of operation you want to do\n",
    "And by statement execution you are fullfilling that task.\n",
    "Here In this example, = Is an expression And by this spam=10 statement you are able to store the value In spam variable\n"
   ]
  },
  {
   "cell_type": "code",
   "execution_count": null,
   "metadata": {},
   "outputs": [],
   "source": [
    "# Qusetion 6. After running the following code, what does the variable bacon contain?\n",
    "# bacon = 22\n",
    "# bacon + 1\n",
    "\n",
    "The batcon will contain a integer value And that is 23"
   ]
  },
  {
   "cell_type": "code",
   "execution_count": null,
   "metadata": {},
   "outputs": [],
   "source": [
    "# Question 7. What should the values of the following two terms be?\n",
    "# 'spam' + 'spamspam'\n",
    "# 'spam' * 3\n",
    "\n",
    "The first And second values would be spamspamspam"
   ]
  },
  {
   "cell_type": "code",
   "execution_count": null,
   "metadata": {},
   "outputs": [],
   "source": [
    "# Qusetion 8. Why is eggs a valid variable name while 100 is invalid?\n",
    "\n",
    "eggs Is valid because we can start With Any [a-z] Or[A-Z]. \n",
    "100 Is invalid . If we want to assign a variable name With numeric value then we must start With _ .\n",
    "Here _100 would be correct ."
   ]
  },
  {
   "cell_type": "code",
   "execution_count": null,
   "metadata": {},
   "outputs": [],
   "source": [
    "# Question 9. What three functions can be used to get the integer, floating-point number, or string version of a value?\n",
    "\n",
    "int(),float(),str() functions are used to get this values."
   ]
  },
  {
   "cell_type": "code",
   "execution_count": null,
   "metadata": {},
   "outputs": [],
   "source": [
    "# Question 10. Why does this expression cause an error? How can you fix it?\n",
    "# 'I have eaten ' + 99 + ' burritos.'\n",
    "\n",
    "Error because we cannot concatenation string With integer .\n",
    "We can fix it by casting the 99 by using str(99) then concatenating this three values\n",
    "Solution : 'I have eaten ' + '99' + ' burritos.'"
   ]
  }
 ],
 "metadata": {
  "kernelspec": {
   "display_name": "Python 3",
   "language": "python",
   "name": "python3"
  },
  "language_info": {
   "codemirror_mode": {
    "name": "ipython",
    "version": 3
   },
   "file_extension": ".py",
   "mimetype": "text/x-python",
   "name": "python",
   "nbconvert_exporter": "python",
   "pygments_lexer": "ipython3",
   "version": "3.7.7"
  }
 },
 "nbformat": 4,
 "nbformat_minor": 4
}
