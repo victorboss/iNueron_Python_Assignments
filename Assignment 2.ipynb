{
 "cells": [
  {
   "cell_type": "code",
   "execution_count": null,
   "metadata": {},
   "outputs": [],
   "source": [
    "# Question 1.What are the two values of the Boolean data type? How do you write them?\n",
    "\n",
    "The two values are True And False\n",
    "a= True\n",
    "b= False"
   ]
  },
  {
   "cell_type": "code",
   "execution_count": null,
   "metadata": {},
   "outputs": [],
   "source": [
    "# Question 2. What are the three different types of Boolean operators?\n",
    "\n",
    "Three types of boolean operators are given below:\n",
    "    1 . and\n",
    "    2 . or\n",
    "    3 . not"
   ]
  },
  {
   "cell_type": "code",
   "execution_count": null,
   "metadata": {},
   "outputs": [],
   "source": [
    "# Question 3. Make a list of each Boolean operator's truth tables (i.e. every possible combination \n",
    "# of Boolean values for the operator and what it evaluate ).\n",
    "\n",
    "And operator\n",
    "    1 and 1 = 1\n",
    "    1 and 0 = 0\n",
    "    0 and 1 = 0\n",
    "    0 and 0 = 0\n",
    "    \n",
    "Or Operator\n",
    "    1 or 1 = 1\n",
    "    1 or 0 = 1\n",
    "    0 or 1 = 1\n",
    "    0 or 0 = 0\n",
    "    \n",
    "Not Opearator\n",
    "    !0 = 1\n",
    "    !1 = 0\n"
   ]
  },
  {
   "cell_type": "code",
   "execution_count": null,
   "metadata": {},
   "outputs": [],
   "source": [
    "# Question 4. What are the values of the following expressions?\n",
    "\n",
    "    1. (5 > 4) and (3 == 5) = False\n",
    "    2. not (5 > 4) = False\n",
    "    3. (5 > 4) or (3 == 5) = True\n",
    "    4. not ((5 > 4) or (3 == 5)) = False\n",
    "    5. (True and True) and (True == False) = False\n",
    "    6. (not False) or (not True) = True\n"
   ]
  },
  {
   "cell_type": "code",
   "execution_count": null,
   "metadata": {},
   "outputs": [],
   "source": [
    "# Question 5. What are the six comparison operators?\n",
    "\n",
    "They are :\n",
    "    1 . >\n",
    "    2 . >=\n",
    "    3 . <\n",
    "    4 . <=\n",
    "    5 . ==\n",
    "    6 . !=\n"
   ]
  },
  {
   "cell_type": "code",
   "execution_count": 1,
   "metadata": {
    "scrolled": true
   },
   "outputs": [
    {
     "name": "stdout",
     "output_type": "stream",
     "text": [
      "Yes!! True\n"
     ]
    }
   ],
   "source": [
    "# Qusetion 6. How do you tell the difference between the equal to and assignment operators?\n",
    "# Describe a condition and when you would use one.\n",
    "\n",
    "Equal operaion Is a comparison operator which can compare two Or multiple values\n",
    "And assignment operator Is used when we want to assign a value to a variable\n",
    "\n",
    "\n",
    "if True:\n",
    "    a= 10 \n",
    "    # Here i am assigning 10 to a variable a. = is an assignment operator\n",
    "    \n",
    "    if a<=100:\n",
    "        # Here <= is a comparison operator and it compares if a is less or equal to 100\n",
    "        print('Yes!! True')"
   ]
  },
  {
   "cell_type": "code",
   "execution_count": 2,
   "metadata": {},
   "outputs": [
    {
     "name": "stdout",
     "output_type": "stream",
     "text": [
      "ham\n",
      "spam\n",
      "spam\n"
     ]
    }
   ],
   "source": [
    "# Question 7. Identify the three blocks in this code:\n",
    "\n",
    "spam = 0\n",
    "if spam == 10:\n",
    "    print('eggs')\n",
    "if spam > 5:\n",
    "    print('bacon')\n",
    "else:\n",
    "    print('ham')\n",
    "    print('spam')\n",
    "    print('spam')\n",
    "\n",
    "Three blocks are print statement In two if block And one else block"
   ]
  },
  {
   "cell_type": "code",
   "execution_count": 3,
   "metadata": {},
   "outputs": [
    {
     "name": "stdout",
     "output_type": "stream",
     "text": [
      "Enter Integer Value:: 5\n",
      "Greetings !\n"
     ]
    }
   ],
   "source": [
    "# Question 8. Write code that prints Hello if 1 is stored in spam, prints Howdy if 2 is stored in spam, \n",
    "# and prints Greetings! if anything else is stored in spam.\n",
    "\n",
    "spam=int(input(\"Enter Integer Value:: \"))\n",
    "if spam==1:\n",
    "    print(\"Hello\")\n",
    "elif spam==2:\n",
    "    prints(\"Howdy\")\n",
    "else:\n",
    "    print(\"Greetings !\")"
   ]
  },
  {
   "cell_type": "code",
   "execution_count": null,
   "metadata": {},
   "outputs": [],
   "source": [
    "# Question 9.If your programme is stuck in an endless loop, what keys you’ll press?\n",
    "\n",
    "I will goto Kernel In jupyter nootbook And then press interupt Or CTRL+C"
   ]
  },
  {
   "cell_type": "code",
   "execution_count": null,
   "metadata": {},
   "outputs": [],
   "source": [
    "# Question 10. How can you tell the difference between break and continue?\n",
    "\n",
    "Break : break will stop at that particular point where i use that keyword And that it will come out of that loop statement\n",
    "Continue : continue will start its iteration where it finds the that value which Is assigned For continuetion From that\n",
    "           point\n",
    "           "
   ]
  },
  {
   "cell_type": "code",
   "execution_count": 4,
   "metadata": {},
   "outputs": [
    {
     "name": "stdout",
     "output_type": "stream",
     "text": [
      "2\n",
      "3\n"
     ]
    }
   ],
   "source": [
    "# Continue\n",
    "l= [1,2,3]\n",
    "for i in l:\n",
    "    if i == 1:\n",
    "        # For continue keywords it will not print 1\n",
    "        continue\n",
    "    print(i)"
   ]
  },
  {
   "cell_type": "code",
   "execution_count": 5,
   "metadata": {},
   "outputs": [
    {
     "name": "stdout",
     "output_type": "stream",
     "text": [
      "1\n"
     ]
    }
   ],
   "source": [
    "# Loop\n",
    "for i in l:\n",
    "    if i == 2:\n",
    "        # For break keywords it will just print 1 and come out from that loop\n",
    "        break\n",
    "    print(i)"
   ]
  },
  {
   "cell_type": "code",
   "execution_count": null,
   "metadata": {},
   "outputs": [],
   "source": [
    "# Question 11. In a for loop, what is the difference between range(10), range(0, 10), and range(0, 10, 1)?\n",
    "\n",
    "All of these three range function will give result from 0 to 9\n"
   ]
  },
  {
   "cell_type": "code",
   "execution_count": 7,
   "metadata": {},
   "outputs": [
    {
     "name": "stdout",
     "output_type": "stream",
     "text": [
      "1\n",
      "2\n",
      "3\n",
      "4\n",
      "5\n",
      "6\n",
      "7\n",
      "8\n",
      "9\n",
      "10\n"
     ]
    }
   ],
   "source": [
    "# Question 12. Write a short program that prints the numbers 1 to 10 using a for loop. \n",
    "# Then write an equivalent program that prints the numbers 1 to 10 using a while loop.\n",
    "\n",
    "# For Loop\n",
    "for i in range(1,11):\n",
    "    print(i)"
   ]
  },
  {
   "cell_type": "code",
   "execution_count": 9,
   "metadata": {
    "scrolled": true
   },
   "outputs": [
    {
     "name": "stdout",
     "output_type": "stream",
     "text": [
      "1\n",
      "2\n",
      "3\n",
      "4\n",
      "5\n",
      "6\n",
      "7\n",
      "8\n",
      "9\n",
      "10\n"
     ]
    }
   ],
   "source": [
    "# While Loop\n",
    "i=1\n",
    "while(i<=10):\n",
    "    print(i)\n",
    "    i+=1"
   ]
  },
  {
   "cell_type": "code",
   "execution_count": null,
   "metadata": {},
   "outputs": [],
   "source": [
    "# Question 13. If you had a function named bacon() inside a module named spam, how would you call it after importing spam?\n",
    "\n",
    "spam.bacon()"
   ]
  }
 ],
 "metadata": {
  "kernelspec": {
   "display_name": "Python 3",
   "language": "python",
   "name": "python3"
  },
  "language_info": {
   "codemirror_mode": {
    "name": "ipython",
    "version": 3
   },
   "file_extension": ".py",
   "mimetype": "text/x-python",
   "name": "python",
   "nbconvert_exporter": "python",
   "pygments_lexer": "ipython3",
   "version": "3.7.7"
  }
 },
 "nbformat": 4,
 "nbformat_minor": 4
}
