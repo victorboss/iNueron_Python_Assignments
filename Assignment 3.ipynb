{
 "cells": [
  {
   "cell_type": "code",
   "execution_count": null,
   "metadata": {},
   "outputs": [],
   "source": [
    "# Question 1. Why are functions advantageous to have in your programs?\n",
    "\n",
    "By using function we can reduce,reuse code . It saves our time where we need to write code multiple times. We can easily\n",
    "read codes."
   ]
  },
  {
   "cell_type": "code",
   "execution_count": null,
   "metadata": {},
   "outputs": [],
   "source": [
    "# Question 2. When does the code in a function run: when it's specified or when it's called?\n",
    "\n",
    "The function only executes when we call the function."
   ]
  },
  {
   "cell_type": "code",
   "execution_count": null,
   "metadata": {},
   "outputs": [],
   "source": [
    "# Question 3. What statement creates a function?\n",
    "\n",
    "By writing def keyword we can create function"
   ]
  },
  {
   "cell_type": "code",
   "execution_count": null,
   "metadata": {},
   "outputs": [],
   "source": [
    "# Question 4. What is the difference between a function and a function call?\n",
    "\n",
    "Function Is a method For doing multiple tasks by writing once. Unless we call that function name it Is useless.\n",
    "By def we define a function And the insider code of that function only executes when we call the function ."
   ]
  },
  {
   "cell_type": "code",
   "execution_count": null,
   "metadata": {},
   "outputs": [],
   "source": [
    "# Question 5. How many global scopes are there in a Python program? How many local scopes?\n",
    "\n",
    "If Any function there canbe one local , one global scope"
   ]
  },
  {
   "cell_type": "code",
   "execution_count": null,
   "metadata": {},
   "outputs": [],
   "source": [
    "# Qusetion 6. What happens to variables in a local scope when the function call returns?\n",
    "\n",
    "local variables are destroyed With function executions end.\n",
    "\n"
   ]
  },
  {
   "cell_type": "code",
   "execution_count": null,
   "metadata": {},
   "outputs": [],
   "source": [
    "# Qusetion 7. What is the concept of a return value? Is it possible to have a return value in an expression?\n",
    "\n",
    "When we call the function then it will Return some values If there inside that function there Is a return keyword.\n",
    "Yes its posible have a return value In an expression\n"
   ]
  },
  {
   "cell_type": "code",
   "execution_count": null,
   "metadata": {},
   "outputs": [],
   "source": [
    "# Qusetion 8. If a function does not have a return statement, what is the return value of a call to that function?\n",
    "\n",
    "Then it will return nothing "
   ]
  },
  {
   "cell_type": "code",
   "execution_count": null,
   "metadata": {},
   "outputs": [],
   "source": [
    "# Question 9. How do you make a function variable refer to the global variable?\n",
    "\n",
    "By using global keyword we can do that"
   ]
  },
  {
   "cell_type": "code",
   "execution_count": null,
   "metadata": {},
   "outputs": [],
   "source": [
    "# Qusetion 10. What is the data type of None?\n",
    "\n",
    "This will be NoneType"
   ]
  },
  {
   "cell_type": "code",
   "execution_count": null,
   "metadata": {},
   "outputs": [],
   "source": [
    "# Question 11. What does the sentence import areallyourpetsnamederic do?\n",
    "\n",
    "By this we are importing that 'areallyourpetsnamederic' module"
   ]
  },
  {
   "cell_type": "code",
   "execution_count": null,
   "metadata": {},
   "outputs": [],
   "source": [
    "# Question 12. If you had a bacon() feature in a spam module, what would you call it after importing spam?\n",
    "\n",
    "By writing spam.bacon()"
   ]
  },
  {
   "cell_type": "code",
   "execution_count": null,
   "metadata": {},
   "outputs": [],
   "source": [
    "# Question 13. What can you do to save a programme from crashing if it encounters an error?\n",
    "\n",
    "we can use try except blocks For save a programme From crashing"
   ]
  },
  {
   "cell_type": "code",
   "execution_count": null,
   "metadata": {},
   "outputs": [],
   "source": [
    "# Question 14. What is the purpose of the try clause? What is the purpose of the except clause?\n",
    "\n",
    "try clause will rectify If there is Any error\n",
    "except clause will handle the error"
   ]
  }
 ],
 "metadata": {
  "kernelspec": {
   "display_name": "Python 3",
   "language": "python",
   "name": "python3"
  },
  "language_info": {
   "codemirror_mode": {
    "name": "ipython",
    "version": 3
   },
   "file_extension": ".py",
   "mimetype": "text/x-python",
   "name": "python",
   "nbconvert_exporter": "python",
   "pygments_lexer": "ipython3",
   "version": "3.7.7"
  }
 },
 "nbformat": 4,
 "nbformat_minor": 4
}
