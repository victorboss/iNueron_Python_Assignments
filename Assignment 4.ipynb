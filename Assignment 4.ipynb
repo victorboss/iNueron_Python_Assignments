{
 "cells": [
  {
   "cell_type": "code",
   "execution_count": null,
   "id": "6bc30a2f",
   "metadata": {},
   "outputs": [],
   "source": [
    "# 1. What exactly is []?\n",
    "\n",
    "[] means that we are creating a empty list"
   ]
  },
  {
   "cell_type": "code",
   "execution_count": 1,
   "id": "e49d6567",
   "metadata": {},
   "outputs": [
    {
     "data": {
      "text/plain": [
       "[2, 4, 'hello', 6, 8, 10]"
      ]
     },
     "execution_count": 1,
     "metadata": {},
     "output_type": "execute_result"
    }
   ],
   "source": [
    "# 2. In a list of values stored in a variable called spam, \n",
    "#    how would you assign the value 'hello' as the third value? (Assume [2, 4, 6, 8, 10] are in spam.) \n",
    "\n",
    "spam=[2, 4, 6, 8, 10]\n",
    "spam.insert(2,'hello')\n",
    "spam"
   ]
  },
  {
   "cell_type": "code",
   "execution_count": null,
   "id": "e44bf0fb",
   "metadata": {},
   "outputs": [],
   "source": [
    "# 3. What is the value of spam[int(int('3' * 2) / 11)]?\n",
    "\n",
    "It will give the value of 4th index . Because ('3'*2) means 33 and 33/11 means 3 then spam[3] means 6"
   ]
  },
  {
   "cell_type": "code",
   "execution_count": null,
   "id": "b1af2170",
   "metadata": {},
   "outputs": [],
   "source": [
    "# 4. What is the value of spam[-1]?\n",
    "\n",
    "The value of spam[-1] will be 10"
   ]
  },
  {
   "cell_type": "code",
   "execution_count": null,
   "id": "0b445928",
   "metadata": {},
   "outputs": [],
   "source": [
    "# 5. What is the value of spam[:2]?\n",
    "\n",
    "The value of spam[-1] will be 8"
   ]
  },
  {
   "cell_type": "code",
   "execution_count": null,
   "id": "e96b0b83",
   "metadata": {},
   "outputs": [],
   "source": [
    "# 6. What is the value of bacon.index('cat')?\n",
    "\n",
    "becon=[3.14, 'cat', 11, 'cat', True]\n",
    "\n",
    "The index value would be 1"
   ]
  },
  {
   "cell_type": "code",
   "execution_count": null,
   "id": "fae32745",
   "metadata": {},
   "outputs": [],
   "source": [
    "# 7. How does bacon.append(99) change the look of the list value in bacon?\n",
    "\n",
    "becon.append(99) will add the value 99 at the end of the list because append always add at last."
   ]
  },
  {
   "cell_type": "code",
   "execution_count": null,
   "id": "6256f2a3",
   "metadata": {},
   "outputs": [],
   "source": [
    "# 8. How does bacon.remove('cat') change the look of the list in bacon?\n",
    "\n",
    "After removing 'cat' value the list will look like [3.14,11,'cat',True]"
   ]
  },
  {
   "cell_type": "code",
   "execution_count": null,
   "id": "be17b282",
   "metadata": {},
   "outputs": [],
   "source": [
    "# 9. What are the list concatenation and list replication operators?\n",
    "\n",
    "List concatination actuallt adds two or multiple lists. we can do it by + operator and inbuilt function\n",
    "List replication can be done with * operator where it add the same list multiple times"
   ]
  },
  {
   "cell_type": "code",
   "execution_count": null,
   "id": "b3c78d27",
   "metadata": {},
   "outputs": [],
   "source": [
    "# 10. What is difference between the list methods append() and insert()?\n",
    "\n",
    "append() will add a value at the end of the List\n",
    "insert() will add a value by Any position given by the user"
   ]
  },
  {
   "cell_type": "code",
   "execution_count": null,
   "id": "00843ad7",
   "metadata": {},
   "outputs": [],
   "source": [
    "# 11. What are the two methods for removing items from a list?\n",
    "\n",
    "pop() And remove()"
   ]
  },
  {
   "cell_type": "code",
   "execution_count": null,
   "id": "2164c892",
   "metadata": {},
   "outputs": [],
   "source": [
    "# 12. Describe how list values and string values are identical.\n",
    "\n",
    "List And String values are identical because they maintain a sequential manner"
   ]
  },
  {
   "cell_type": "code",
   "execution_count": null,
   "id": "c36be71b",
   "metadata": {},
   "outputs": [],
   "source": [
    "# 13. What's the difference between tuples and lists?\n",
    "\n",
    "Actually List are mutable where tuples are immutable List"
   ]
  },
  {
   "cell_type": "code",
   "execution_count": null,
   "id": "16302314",
   "metadata": {},
   "outputs": [],
   "source": [
    "# 14. How do you type a tuple value that only contains the integer 42?\n",
    "\n",
    "tup=15,\n",
    "type(tup)"
   ]
  },
  {
   "cell_type": "code",
   "execution_count": null,
   "id": "07a80ed5",
   "metadata": {},
   "outputs": [],
   "source": [
    "# 15. How do you get a list value's tuple form? How do you get a tuple value's list form?\n",
    "\n",
    "List=[1,2,3]\n",
    "Tuple=1,2,3,\n",
    "Tuple1=(List)\n",
    "List1=list(Tuple)\n",
    "Tuple[1],List1[1]"
   ]
  },
  {
   "cell_type": "code",
   "execution_count": null,
   "id": "06799912",
   "metadata": {},
   "outputs": [],
   "source": [
    "# 16. Variables that \"contain\" list values are not necessarily lists themselves. Instead, what do they contain?\n",
    "\n",
    "They canbe string,int,float etc that means saclar value"
   ]
  },
  {
   "cell_type": "code",
   "execution_count": null,
   "id": "b02d75fa",
   "metadata": {},
   "outputs": [],
   "source": [
    "# 17. How do you distinguish between copy.copy() and copy.deepcopy()?\n",
    "\n",
    "In copy.copy() actually values changes In outer List between two List \n",
    "In copy.deepcopy() actually values changes In outer List As well As inner List between two List "
   ]
  }
 ],
 "metadata": {
  "kernelspec": {
   "display_name": "Python 3 (ipykernel)",
   "language": "python",
   "name": "python3"
  },
  "language_info": {
   "codemirror_mode": {
    "name": "ipython",
    "version": 3
   },
   "file_extension": ".py",
   "mimetype": "text/x-python",
   "name": "python",
   "nbconvert_exporter": "python",
   "pygments_lexer": "ipython3",
   "version": "3.9.12"
  }
 },
 "nbformat": 4,
 "nbformat_minor": 5
}
