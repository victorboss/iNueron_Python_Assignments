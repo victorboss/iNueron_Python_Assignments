{
 "cells": [
  {
   "cell_type": "code",
   "execution_count": null,
   "id": "202f1253",
   "metadata": {},
   "outputs": [],
   "source": [
    "# 1. What are escape characters, and how do you use them?\n",
    "\n",
    "A character known as an escape character can be used to introduce characters that are otherwise illegal into a string.\n",
    "The character you want to enter after the backslash is called a \"escape character.\""
   ]
  },
  {
   "cell_type": "code",
   "execution_count": null,
   "id": "253591bb",
   "metadata": {},
   "outputs": [],
   "source": [
    "# 2. What do the escape characters n and t stand for?\n",
    "\n",
    "n means newline and t means tabs"
   ]
  },
  {
   "cell_type": "code",
   "execution_count": null,
   "id": "a813089d",
   "metadata": {},
   "outputs": [],
   "source": [
    "# 3. What is the way to include backslash characters in a string?\n",
    "\n",
    "\\\\ is the way to include backslash characters in a string"
   ]
  },
  {
   "cell_type": "code",
   "execution_count": null,
   "id": "36f49137",
   "metadata": {},
   "outputs": [],
   "source": [
    "# 4. The string \"Howl's Moving Castle\" is a correct value. Why isn't the single \n",
    "#    quote character in the word Howl's not escaped a problem?\n",
    "\n",
    "\n",
    "Beacuse of using double quotes in starting and ending"
   ]
  },
  {
   "cell_type": "code",
   "execution_count": null,
   "id": "48aeb8da",
   "metadata": {},
   "outputs": [],
   "source": [
    "# 5. How do you write a string of newlines if you don't want to use the n character?\n",
    "\n",
    "print(\"string .... \",end=\" \")"
   ]
  },
  {
   "cell_type": "code",
   "execution_count": null,
   "id": "5062ee2c",
   "metadata": {},
   "outputs": [],
   "source": [
    "# 6. What are the values of the given expressions?\n",
    "\n",
    "'e'\n",
    "'Hello'\n",
    "'Hello'\n",
    "'lo, world!'\n"
   ]
  },
  {
   "cell_type": "code",
   "execution_count": null,
   "id": "c17f7e5d",
   "metadata": {},
   "outputs": [],
   "source": [
    "# 7. What are the values of the following expressions?\n",
    "\n",
    "'HELLO'\n",
    "1\n",
    "'hello'"
   ]
  },
  {
   "cell_type": "code",
   "execution_count": null,
   "id": "8db60074",
   "metadata": {},
   "outputs": [],
   "source": [
    "# 8. What are the values of the following expressions?\n",
    "\n",
    "['Remember,', 'remember,', 'the', 'fifth', 'of', 'July.']\n",
    "'There-can-only-one.'"
   ]
  },
  {
   "cell_type": "code",
   "execution_count": 8,
   "id": "1549a070",
   "metadata": {},
   "outputs": [
    {
     "name": "stdout",
     "output_type": "stream",
     "text": [
      "string**********************************\n",
      "**********************************string\n",
      "*****************string*****************\n"
     ]
    }
   ],
   "source": [
    "# 9. What are the methods for right-justifying, left-justifying, and centering a string?\n",
    "\n",
    "print(\"string\".ljust(40,'*'))\n",
    "print(\"string\".rjust(40,'*'))\n",
    "print(\"string\".center(40,'*'))"
   ]
  },
  {
   "cell_type": "code",
   "execution_count": null,
   "id": "bd90e0f2",
   "metadata": {},
   "outputs": [],
   "source": [
    "# 10. What is the best way to remove whitespace characters from the start or end?\n",
    "\n",
    "str.strip()"
   ]
  }
 ],
 "metadata": {
  "kernelspec": {
   "display_name": "Python 3 (ipykernel)",
   "language": "python",
   "name": "python3"
  },
  "language_info": {
   "codemirror_mode": {
    "name": "ipython",
    "version": 3
   },
   "file_extension": ".py",
   "mimetype": "text/x-python",
   "name": "python",
   "nbconvert_exporter": "python",
   "pygments_lexer": "ipython3",
   "version": "3.9.12"
  }
 },
 "nbformat": 4,
 "nbformat_minor": 5
}
