{
 "cells": [
  {
   "cell_type": "code",
   "execution_count": null,
   "id": "68a8f1ca",
   "metadata": {},
   "outputs": [],
   "source": [
    "# 1. What is the name of the feature responsible for generating Regex objects?\n",
    "\n",
    "re.compile() is responsible for generating Regex objects"
   ]
  },
  {
   "cell_type": "code",
   "execution_count": null,
   "id": "09e97224",
   "metadata": {},
   "outputs": [],
   "source": [
    "# 2. Why do raw strings often appear in Regex objects?\n",
    "\n",
    "So that backslashe neednot to be escaped."
   ]
  },
  {
   "cell_type": "code",
   "execution_count": null,
   "id": "832c26d2",
   "metadata": {},
   "outputs": [],
   "source": [
    "# 3. What is the return value of the search() method?\n",
    "\n",
    "match object will be returned"
   ]
  },
  {
   "cell_type": "code",
   "execution_count": null,
   "id": "1fee5f9e",
   "metadata": {},
   "outputs": [],
   "source": [
    "# 4. From a Match item, how do you get the actual strings that match the pattern?\n",
    "\n",
    "by the group methods"
   ]
  },
  {
   "cell_type": "code",
   "execution_count": null,
   "id": "d548727c",
   "metadata": {},
   "outputs": [],
   "source": [
    "# 5. In the regex which created from the r'(\\d\\d\\d)-(\\d\\d\\d-\\d\\d\\d\\d)', what does group zero cover? Group 2? Group 1?\n",
    "\n",
    "Group 0 will match entire string, group 1 match the first parenthesis, and group 2 will match 2nd parentheses"
   ]
  },
  {
   "cell_type": "code",
   "execution_count": null,
   "id": "eaf40692",
   "metadata": {},
   "outputs": [],
   "source": [
    "# 6. In standard expression syntax, parentheses and intervals have distinct meanings. \n",
    "#    How can you tell a regex that you want it to fit real parentheses and periods?\n",
    "\n",
    "both canbe escaped by \\ (backslaches)"
   ]
  },
  {
   "cell_type": "code",
   "execution_count": null,
   "id": "079257fb",
   "metadata": {},
   "outputs": [],
   "source": [
    "# 7. The findall() method returns a string list or a list of string tuples. \n",
    "#    What causes it to return one of the two options?\n",
    "\n",
    "If no groups, a list of strings is returned. If has groups, a list of tuples of strings is returned."
   ]
  },
  {
   "cell_type": "code",
   "execution_count": null,
   "id": "51380f33",
   "metadata": {},
   "outputs": [],
   "source": [
    "# 8. In standard expressions, what does the | character mean?\n",
    "\n",
    "it means or"
   ]
  },
  {
   "cell_type": "code",
   "execution_count": null,
   "id": "e79e1f88",
   "metadata": {},
   "outputs": [],
   "source": [
    "# 9. In regular expressions, what does the character stand for?\n",
    "\n",
    "it means either this group or another group"
   ]
  },
  {
   "cell_type": "code",
   "execution_count": null,
   "id": "59869f81",
   "metadata": {},
   "outputs": [],
   "source": [
    "# 10.In regular expressions, what is the difference between the + and * characters?\n",
    "\n",
    "+ means 1 or more where * means 0 or more"
   ]
  },
  {
   "cell_type": "code",
   "execution_count": null,
   "id": "27c4147c",
   "metadata": {},
   "outputs": [],
   "source": [
    "# 11. What is the difference between {4} and {4,5} in regular expression?\n",
    "\n",
    "{4} menas exactly 4 where {4,5} means from 4 to 5"
   ]
  },
  {
   "cell_type": "code",
   "execution_count": null,
   "id": "ea9c9cbc",
   "metadata": {},
   "outputs": [],
   "source": [
    "# 12. What do you mean by the \\d, \\w, and \\s shorthand character classes signify in regular expressions?\n",
    "\n",
    "\\d means digits from 0-9\n",
    "\\w alphanumeric character (A to Z, a to z, 0 to 9)\n",
    "\\s white space (\\t,\\n,\\r,\\v,\\f)"
   ]
  },
  {
   "cell_type": "code",
   "execution_count": null,
   "id": "4e38c794",
   "metadata": {},
   "outputs": [],
   "source": [
    "# 13. What do means by \\D, \\W, and \\S shorthand character classes signify in regular expressions?\n",
    "\n",
    "\\D means non-digit\n",
    "\\W means non-alphanumeric character\n",
    "\\S menas non-whitespace character"
   ]
  },
  {
   "cell_type": "code",
   "execution_count": null,
   "id": "55e207c8",
   "metadata": {},
   "outputs": [],
   "source": [
    "# 14. What is the difference between .*?\n",
    "\n",
    ". matches any character except new line\n",
    "* matches 0 or more occurances of characters\n",
    "? matches 0 or 1 occurances of characters"
   ]
  },
  {
   "cell_type": "code",
   "execution_count": null,
   "id": "b7f4c9a0",
   "metadata": {},
   "outputs": [],
   "source": [
    "15. What is the syntax for matching both numbers and lowercase letters with a character class?\n",
    "\n",
    "\\w or [a-zA-Zo-9] is the class"
   ]
  },
  {
   "cell_type": "code",
   "execution_count": null,
   "id": "c1772608",
   "metadata": {},
   "outputs": [],
   "source": [
    "# 16. What is the procedure for making a normal expression in regax case insensitive?\n",
    "\n",
    "re.IGNORECASE"
   ]
  },
  {
   "cell_type": "code",
   "execution_count": null,
   "id": "24ec703c",
   "metadata": {},
   "outputs": [],
   "source": [
    "# 17. What does the . character normally match? \n",
    "#     What does it match if re.DOTALL is passed as 2nd argument in re.compile()?\n",
    "\n",
    ". matches any character except new line\n",
    "Then the dot will also match newline characters."
   ]
  },
  {
   "cell_type": "code",
   "execution_count": null,
   "id": "19466d3a",
   "metadata": {},
   "outputs": [],
   "source": [
    "# 18. If numReg = re.compile(r'\\d+'), \n",
    "#     what will numRegex.sub('X', '11 drummers, 10 pipers, five rings, 4 hen') return?\n",
    "\n",
    "'X drummers, X pipers, five rings, X hen'"
   ]
  },
  {
   "cell_type": "code",
   "execution_count": null,
   "id": "68c1cfb9",
   "metadata": {},
   "outputs": [],
   "source": [
    "# 19. What does passing re.VERBOSE as the 2nd argument to re.compile() allow to do?\n",
    "\n",
    "re.VERBOSE argument add whitespace and comments"
   ]
  },
  {
   "cell_type": "code",
   "execution_count": 4,
   "id": "eef9580c",
   "metadata": {},
   "outputs": [],
   "source": [
    "# 20. How would you write a regex that match a number with comma for every three digits?\n",
    "\n",
    "my_reg=re.compile(r'(^\\d{1,3}(,\\d{3})*$)')\n",
    "re.match(pattern=my_reg,string='1,234')"
   ]
  },
  {
   "cell_type": "code",
   "execution_count": 11,
   "id": "3287f3da",
   "metadata": {},
   "outputs": [
    {
     "data": {
      "text/plain": [
       "<re.Match object; span=(0, 16), match='Robocop Watanabe'>"
      ]
     },
     "execution_count": 11,
     "metadata": {},
     "output_type": "execute_result"
    }
   ],
   "source": [
    "# 21. How would you write a regex that matches the full name of someone whose \n",
    "#     last name is Watanabe? You can assume that the first name that comes \n",
    "#     before it will always be one word that begins with a capital letter. \n",
    "\n",
    "my_reg=re.compile(r'^[A-Z][a-z]+\\s(Watanabe)$')\n",
    "re.match(pattern=my_reg,string='Robocop Watanabe')"
   ]
  },
  {
   "cell_type": "code",
   "execution_count": 25,
   "id": "0fdf5e92",
   "metadata": {},
   "outputs": [
    {
     "data": {
      "text/plain": [
       "<re.Match object; span=(0, 20), match='Alice throws Apples.'>"
      ]
     },
     "execution_count": 25,
     "metadata": {},
     "output_type": "execute_result"
    }
   ],
   "source": [
    "# 22. How would you write a regex that matches a sentence where the first word is either \n",
    "#     Alice, Bob, or Carol; \n",
    "#     the second word is either eats, pets, or throws; \n",
    "#     the third word is apples, cats, or baseballs; \n",
    "#     and the sentence ends with a period? \n",
    "\n",
    "my_reg=re.compile(r'(Alice|Bob|Carol)\\s(eats|pets|throws)\\s(apples|cats|baseballs)\\.$',re.I)\n",
    "re.match(pattern=my_reg,string='Alice throws Apples.')"
   ]
  }
 ],
 "metadata": {
  "kernelspec": {
   "display_name": "Python 3 (ipykernel)",
   "language": "python",
   "name": "python3"
  },
  "language_info": {
   "codemirror_mode": {
    "name": "ipython",
    "version": 3
   },
   "file_extension": ".py",
   "mimetype": "text/x-python",
   "name": "python",
   "nbconvert_exporter": "python",
   "pygments_lexer": "ipython3",
   "version": "3.9.12"
  }
 },
 "nbformat": 4,
 "nbformat_minor": 5
}
